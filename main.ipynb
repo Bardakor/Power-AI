{
 "cells": [
  {
   "cell_type": "code",
   "execution_count": 9,
   "id": "2efd26e7",
   "metadata": {},
   "outputs": [],
   "source": [
    "import pandas as pd\n",
    "df = pd.read_csv(\"csv_output/leituras301224_1343_270225_0830__leituras.csv\")"
   ]
  },
  {
   "cell_type": "code",
   "execution_count": 16,
   "id": "ec496b53",
   "metadata": {},
   "outputs": [
    {
     "data": {
      "application/vnd.microsoft.datawrangler.viewer.v0+json": {
       "columns": [
        {
         "name": "index",
         "rawType": "object",
         "type": "string"
        },
        {
         "name": "0",
         "rawType": "object",
         "type": "unknown"
        }
       ],
       "ref": "bd1008fb-f9ca-4dcb-85f0-60ae796a0257",
       "rows": [
        [
         "id",
         "int64"
        ],
        [
         "data_hora",
         "object"
        ],
        [
         "ups_work_mode",
         "int64"
        ],
        [
         "ups_va_in",
         "float64"
        ],
        [
         "ups_vb_in",
         "float64"
        ],
        [
         "ups_vc_in",
         "float64"
        ],
        [
         "ups_hz_in",
         "float64"
        ],
        [
         "ups_va_out",
         "float64"
        ],
        [
         "ups_vb_out",
         "float64"
        ],
        [
         "ups_vc_out",
         "float64"
        ],
        [
         "ups_hz_out",
         "float64"
        ],
        [
         "ups_ia_out",
         "float64"
        ],
        [
         "ups_ib_out",
         "float64"
        ],
        [
         "ups_ic_out",
         "float64"
        ],
        [
         "ups_pa",
         "float64"
        ],
        [
         "ups_pb",
         "float64"
        ],
        [
         "ups_pc",
         "float64"
        ],
        [
         "ups_sa",
         "float64"
        ],
        [
         "ups_sb",
         "float64"
        ],
        [
         "ups_sc",
         "float64"
        ],
        [
         "ups_load_a_out",
         "float64"
        ],
        [
         "ups_load_b_out",
         "float64"
        ],
        [
         "ups_load_c_out",
         "float64"
        ],
        [
         "ups_load",
         "float64"
        ],
        [
         "ups_load_sa",
         "float64"
        ],
        [
         "ups_load_sb",
         "float64"
        ],
        [
         "ups_load_sc",
         "float64"
        ],
        [
         "ups_load_s",
         "float64"
        ],
        [
         "ups_p_cell_v",
         "float64"
        ],
        [
         "ups_n_cell_v",
         "float64"
        ],
        [
         "ups_bat_i_charge",
         "float64"
        ],
        [
         "ups_bat_i_discharge",
         "float64"
        ],
        [
         "ups_bat_ah",
         "float64"
        ],
        [
         "ups_byp_status",
         "int64"
        ],
        [
         "ups_byp_va",
         "float64"
        ],
        [
         "ups_byp_vb",
         "float64"
        ],
        [
         "ups_byp_vc",
         "float64"
        ],
        [
         "ups_byp_ia",
         "float64"
        ],
        [
         "ups_byp_ib",
         "float64"
        ],
        [
         "ups_byp_ic",
         "float64"
        ],
        [
         "ups_byp_hz",
         "float64"
        ],
        [
         "met_va_1",
         "float64"
        ],
        [
         "met_vb_1",
         "float64"
        ],
        [
         "met_vc_1",
         "float64"
        ],
        [
         "met_v_1",
         "float64"
        ],
        [
         "met_hz_1",
         "float64"
        ],
        [
         "met_ia_1",
         "float64"
        ],
        [
         "met_ib_1",
         "float64"
        ],
        [
         "met_ic_1",
         "float64"
        ],
        [
         "met_i_1",
         "float64"
        ]
       ],
       "shape": {
        "columns": 1,
        "rows": 165
       }
      },
      "text/plain": [
       "id                 int64\n",
       "data_hora         object\n",
       "ups_work_mode      int64\n",
       "ups_va_in        float64\n",
       "ups_vb_in        float64\n",
       "                  ...   \n",
       "pdu7_fp          float64\n",
       "pdu7_kwh         float64\n",
       "pdu8_i           float64\n",
       "pdu8_fp          float64\n",
       "pdu8_kwh         float64\n",
       "Length: 165, dtype: object"
      ]
     },
     "execution_count": 16,
     "metadata": {},
     "output_type": "execute_result"
    }
   ],
   "source": [
    "df.dtypes"
   ]
  }
 ],
 "metadata": {
  "kernelspec": {
   "display_name": ".venv",
   "language": "python",
   "name": "python3"
  },
  "language_info": {
   "codemirror_mode": {
    "name": "ipython",
    "version": 3
   },
   "file_extension": ".py",
   "mimetype": "text/x-python",
   "name": "python",
   "nbconvert_exporter": "python",
   "pygments_lexer": "ipython3",
   "version": "3.10.13"
  }
 },
 "nbformat": 4,
 "nbformat_minor": 5
}
